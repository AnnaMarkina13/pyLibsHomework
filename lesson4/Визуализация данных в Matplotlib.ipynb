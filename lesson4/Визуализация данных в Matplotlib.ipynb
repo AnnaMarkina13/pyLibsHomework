{
 "cells": [
  {
   "cell_type": "code",
   "execution_count": null,
   "id": "2563be77",
   "metadata": {},
   "outputs": [],
   "source": [
    "import numpy as np\n",
    "import matplotlib.pyplot as plt\n",
    "import pandas as pd\n",
    "\n",
    "%matplotlib inline\n",
    "%config InlineBackend.figure_format = 'svg'"
   ]
  },
  {
   "cell_type": "markdown",
   "id": "ff62f53c",
   "metadata": {},
   "source": [
    "#### Задание №1"
   ]
  },
  {
   "cell_type": "code",
   "execution_count": null,
   "id": "66e93f19",
   "metadata": {},
   "outputs": [],
   "source": [
    "x = [1, 2, 3, 4, 5, 6, 7]\n",
    "y = [3.5, 3.8, 4.2, 4.5, 5, 5.5, 7]\n",
    "\n",
    "# Линейная диаграмма\n",
    "\n",
    "plt.plot(x, y)\n",
    "plt.show()"
   ]
  },
  {
   "cell_type": "code",
   "execution_count": null,
   "id": "45edc84e",
   "metadata": {},
   "outputs": [],
   "source": [
    "# Точечная диаграмма (диаграмма разброса, рассеивания)\n",
    "\n",
    "plt.scatter(x, y)\n",
    "plt.show()"
   ]
  },
  {
   "cell_type": "markdown",
   "id": "d0f6d005",
   "metadata": {},
   "source": [
    "#### Задание №2"
   ]
  },
  {
   "cell_type": "code",
   "execution_count": null,
   "id": "dc360d68",
   "metadata": {
    "scrolled": false
   },
   "outputs": [],
   "source": [
    "t = np.linspace(0, 10, 51)\n",
    "f = np.cos(t)\n",
    "plt.plot(t, f, color='green')\n",
    "plt.title('График f(t)')\n",
    "plt.xlabel('Значения t')\n",
    "plt.ylabel('Значения f')\n",
    "plt.axis([0.5, 0.9, -2.5, 2.5])\n",
    "plt.show()"
   ]
  },
  {
   "cell_type": "markdown",
   "id": "90b2ecbc",
   "metadata": {},
   "source": [
    "#### Задание №3"
   ]
  },
  {
   "cell_type": "code",
   "execution_count": null,
   "id": "d9239e81",
   "metadata": {
    "scrolled": false
   },
   "outputs": [],
   "source": [
    "x = np.linspace(-3, 3, 51)\n",
    "y1 = x**2\n",
    "y2 = 2 * x + 0.5\n",
    "y3 = -3 * x - 1.5\n",
    "y4 = np.sin(x)\n",
    "\n",
    "fig, ax = plt.subplots(nrows=2, ncols=2)\n",
    "ay1, ay2, ay3, ay4 = ax.flatten()\n",
    "\n",
    "ay1.plot(x, y1)\n",
    "ay1.set_title('График y1')\n",
    "ay1.set_xlim([-5, 5])\n",
    "\n",
    "ay2.plot(x, y2)\n",
    "ay2.set_title('График y2')\n",
    "\n",
    "ay3.plot(x, y3)\n",
    "ay3.set_title('График y3')\n",
    "\n",
    "ay4.plot(x, y4)\n",
    "ay4.set_title('График y4')\n",
    "\n",
    "fig.set_size_inches(8, 6)\n",
    "plt.subplots_adjust(wspace=0.3, hspace=0.3)"
   ]
  },
  {
   "cell_type": "markdown",
   "id": "4ce4807a",
   "metadata": {},
   "source": [
    "#### Задание №4"
   ]
  },
  {
   "cell_type": "code",
   "execution_count": null,
   "id": "0d49b22d",
   "metadata": {},
   "outputs": [],
   "source": [
    "plt.style.use('fivethirtyeight')\n",
    "\n",
    "creditcard_ds = pd.read_csv('creditcard.csv')\n",
    "class_value = creditcard_ds['Class'].value_counts()\n",
    "print(class_value)"
   ]
  },
  {
   "cell_type": "code",
   "execution_count": null,
   "id": "86c833ae",
   "metadata": {},
   "outputs": [],
   "source": [
    "class_value.plot(kind='bar')\n",
    "plt.show()"
   ]
  },
  {
   "cell_type": "code",
   "execution_count": null,
   "id": "d91c2038",
   "metadata": {},
   "outputs": [],
   "source": [
    "class_value.plot(kind='bar', logy=True) # в логарифмическом масштабе\n",
    "plt.show()"
   ]
  },
  {
   "cell_type": "code",
   "execution_count": null,
   "id": "170f953e",
   "metadata": {},
   "outputs": [],
   "source": [
    "class0 = creditcard_ds.loc[creditcard_ds['Class'] == 0, ['V1']] # значения признака V1 для обычных транзакций\n",
    "class1 = creditcard_ds.loc[creditcard_ds['Class'] == 1, ['V1']] # значения признака V1 для мошеннических транзакций\n",
    "\n",
    "plt.hist(class0['V1'], bins=20, density=True, alpha=0.5, label='Class 0', color='grey')\n",
    "plt.hist(class1['V1'], bins=20, density=True, alpha=0.5, label='Class 1', color='red')\n",
    "plt.xlabel('V1')\n",
    "plt.legend()\n",
    "plt.show()"
   ]
  },
  {
   "cell_type": "markdown",
   "id": "d1d20ed2",
   "metadata": {},
   "source": [
    "### Задания на повторение материала"
   ]
  },
  {
   "cell_type": "markdown",
   "id": "30c442b1",
   "metadata": {},
   "source": [
    "#### Задание №1"
   ]
  },
  {
   "cell_type": "code",
   "execution_count": null,
   "id": "7bba648f",
   "metadata": {},
   "outputs": [],
   "source": [
    "a = np.arange(12, 24)\n",
    "a"
   ]
  },
  {
   "cell_type": "markdown",
   "id": "6d8fed40",
   "metadata": {},
   "source": [
    "#### Задание №2"
   ]
  },
  {
   "cell_type": "code",
   "execution_count": null,
   "id": "47e3a56e",
   "metadata": {},
   "outputs": [],
   "source": [
    "a.reshape(2, 6)"
   ]
  },
  {
   "cell_type": "code",
   "execution_count": null,
   "id": "9635d2a2",
   "metadata": {},
   "outputs": [],
   "source": [
    "a.reshape(4, 3)"
   ]
  },
  {
   "cell_type": "code",
   "execution_count": null,
   "id": "d4cc707f",
   "metadata": {},
   "outputs": [],
   "source": [
    "a.reshape(6, 2)"
   ]
  },
  {
   "cell_type": "code",
   "execution_count": null,
   "id": "1ed2eba9",
   "metadata": {},
   "outputs": [],
   "source": [
    "a.reshape(3, 4)"
   ]
  },
  {
   "cell_type": "code",
   "execution_count": null,
   "id": "86d07190",
   "metadata": {
    "scrolled": true
   },
   "outputs": [],
   "source": [
    "a.reshape(12, 1)"
   ]
  },
  {
   "cell_type": "markdown",
   "id": "98acc73b",
   "metadata": {},
   "source": [
    "#### Задание №3"
   ]
  },
  {
   "cell_type": "code",
   "execution_count": null,
   "id": "da78d0a2",
   "metadata": {},
   "outputs": [],
   "source": [
    "a.reshape(4, -1)"
   ]
  },
  {
   "cell_type": "code",
   "execution_count": null,
   "id": "9e94d777",
   "metadata": {},
   "outputs": [],
   "source": [
    "a.reshape(2, -1)"
   ]
  },
  {
   "cell_type": "code",
   "execution_count": null,
   "id": "e5e05970",
   "metadata": {},
   "outputs": [],
   "source": [
    "a.reshape(3, -1)"
   ]
  },
  {
   "cell_type": "code",
   "execution_count": null,
   "id": "632ea4d6",
   "metadata": {},
   "outputs": [],
   "source": [
    "a.reshape(-1, 2)"
   ]
  },
  {
   "cell_type": "code",
   "execution_count": null,
   "id": "a75e7588",
   "metadata": {},
   "outputs": [],
   "source": [
    "a.reshape(-1, 1)"
   ]
  },
  {
   "cell_type": "markdown",
   "id": "9f81bc97",
   "metadata": {},
   "source": [
    "#### Задание №4"
   ]
  },
  {
   "cell_type": "code",
   "execution_count": null,
   "id": "b23d1f86",
   "metadata": {},
   "outputs": [],
   "source": [
    "# Массив Numpy, состоящий из одного столбца и 12 строк, нельзя назвать одномерным. Это двумерный массив. \n",
    "# Это можно проверить с помощью параметра ndim\n",
    "\n",
    "a.reshape(12, 1).ndim"
   ]
  },
  {
   "cell_type": "markdown",
   "id": "ff2eec52",
   "metadata": {},
   "source": [
    "#### Задание №5"
   ]
  },
  {
   "cell_type": "code",
   "execution_count": null,
   "id": "693272bc",
   "metadata": {
    "scrolled": true
   },
   "outputs": [],
   "source": [
    "b = np.random.randn(3, 4)\n",
    "b"
   ]
  },
  {
   "cell_type": "code",
   "execution_count": null,
   "id": "3e9a0c9d",
   "metadata": {},
   "outputs": [],
   "source": [
    "c = b.flatten()\n",
    "c"
   ]
  },
  {
   "cell_type": "code",
   "execution_count": null,
   "id": "a4816bb6",
   "metadata": {},
   "outputs": [],
   "source": [
    "b.size == c.size"
   ]
  },
  {
   "cell_type": "markdown",
   "id": "922813f3",
   "metadata": {},
   "source": [
    "#### Задание №6"
   ]
  },
  {
   "cell_type": "code",
   "execution_count": null,
   "id": "20305a13",
   "metadata": {},
   "outputs": [],
   "source": [
    "a = np.arange(20, 0, -2)\n",
    "a"
   ]
  },
  {
   "cell_type": "markdown",
   "id": "e2bedb6d",
   "metadata": {},
   "source": [
    "#### Задание №7"
   ]
  },
  {
   "cell_type": "code",
   "execution_count": null,
   "id": "d49c7030",
   "metadata": {},
   "outputs": [],
   "source": [
    "b = np.arange(20, 1, -2)\n",
    "print(b)\n",
    "\n",
    "# Массивы a и b ничем не отличаются.\n",
    "\n",
    "np.array_equal(a, b)"
   ]
  },
  {
   "cell_type": "markdown",
   "id": "9684fe42",
   "metadata": {},
   "source": [
    "#### Задание №8"
   ]
  },
  {
   "cell_type": "code",
   "execution_count": null,
   "id": "0ee9dfa2",
   "metadata": {},
   "outputs": [],
   "source": [
    "a = np.zeros((3, 2))\n",
    "print(f'Массив a:\\n\\n{a}\\n')\n",
    "\n",
    "b = np.ones((2, 2))\n",
    "print(f'Массив b:\\n\\n{b}\\n')\n",
    "\n",
    "v = np.vstack((a, b))\n",
    "print(f'Массив v:\\n\\n{v}\\n')\n",
    "print(v.size)"
   ]
  },
  {
   "cell_type": "markdown",
   "id": "7f3e49f1",
   "metadata": {},
   "source": [
    "#### Задание №9"
   ]
  },
  {
   "cell_type": "code",
   "execution_count": null,
   "id": "6fc05e7c",
   "metadata": {},
   "outputs": [],
   "source": [
    "a = np.arange(0, 12)\n",
    "A = a.reshape(4, 3)\n",
    "print(A)"
   ]
  },
  {
   "cell_type": "code",
   "execution_count": null,
   "id": "b37b2382",
   "metadata": {},
   "outputs": [],
   "source": [
    "At = A.T\n",
    "At"
   ]
  },
  {
   "cell_type": "code",
   "execution_count": null,
   "id": "daab5b19",
   "metadata": {},
   "outputs": [],
   "source": [
    "B = np.dot(A, At)\n",
    "print(B)\n",
    "print(f'Размер матрицы B равен {B.size}')"
   ]
  },
  {
   "cell_type": "code",
   "execution_count": null,
   "id": "0c4078dd",
   "metadata": {},
   "outputs": [],
   "source": [
    "print(np.linalg.det(B))\n",
    "\n",
    "# Так как определитель матрицы В равен 0, вычислить обратную матрицу для нее невозможно."
   ]
  },
  {
   "cell_type": "markdown",
   "id": "229d0200",
   "metadata": {},
   "source": [
    "#### Задание №10"
   ]
  },
  {
   "cell_type": "code",
   "execution_count": null,
   "id": "bb4227e3",
   "metadata": {},
   "outputs": [],
   "source": [
    "np.random.seed()"
   ]
  },
  {
   "cell_type": "markdown",
   "id": "b389af14",
   "metadata": {},
   "source": [
    "#### Задание №11"
   ]
  },
  {
   "cell_type": "code",
   "execution_count": null,
   "id": "71bb1b31",
   "metadata": {},
   "outputs": [],
   "source": [
    "c = np.random.randint(0, 16, 16)\n",
    "c"
   ]
  },
  {
   "cell_type": "markdown",
   "id": "2876d62d",
   "metadata": {},
   "source": [
    "#### Задание №12"
   ]
  },
  {
   "cell_type": "code",
   "execution_count": null,
   "id": "eed103bc",
   "metadata": {},
   "outputs": [],
   "source": [
    "C = c.reshape(4, 4)\n",
    "C"
   ]
  },
  {
   "cell_type": "code",
   "execution_count": null,
   "id": "bd99362f",
   "metadata": {},
   "outputs": [],
   "source": [
    "D = B + C * 10\n",
    "D"
   ]
  },
  {
   "cell_type": "code",
   "execution_count": null,
   "id": "305ca280",
   "metadata": {},
   "outputs": [],
   "source": [
    "D_det = np.linalg.det(D)\n",
    "print(f'Определитель равен {D_det}')\n",
    "\n",
    "D_rank = np.linalg.matrix_rank(D)\n",
    "print(f'Ранг равен {D_rank}')\n",
    "\n",
    "D_inv = np.linalg.inv(D)\n",
    "print(f'Обратная матрица:\\n{D_inv}')"
   ]
  },
  {
   "cell_type": "markdown",
   "id": "f28bda58",
   "metadata": {},
   "source": [
    "#### Задание №13"
   ]
  },
  {
   "cell_type": "code",
   "execution_count": null,
   "id": "3c95b539",
   "metadata": {},
   "outputs": [],
   "source": [
    "D_inv[D_inv > 0] = 1\n",
    "D_inv[D_inv < 0] = 0\n",
    "D_inv"
   ]
  },
  {
   "cell_type": "code",
   "execution_count": null,
   "id": "00e16edc",
   "metadata": {},
   "outputs": [],
   "source": [
    "E = np.where(D_inv, B, C)\n",
    "E"
   ]
  }
 ],
 "metadata": {
  "kernelspec": {
   "display_name": "Python 3 (ipykernel)",
   "language": "python",
   "name": "python3"
  },
  "language_info": {
   "codemirror_mode": {
    "name": "ipython",
    "version": 3
   },
   "file_extension": ".py",
   "mimetype": "text/x-python",
   "name": "python",
   "nbconvert_exporter": "python",
   "pygments_lexer": "ipython3",
   "version": "3.9.12"
  }
 },
 "nbformat": 4,
 "nbformat_minor": 5
}
