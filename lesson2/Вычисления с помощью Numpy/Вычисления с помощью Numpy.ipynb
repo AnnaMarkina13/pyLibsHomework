{
 "cells": [
  {
   "cell_type": "code",
   "execution_count": 1,
   "id": "7672985f",
   "metadata": {},
   "outputs": [],
   "source": [
    "import numpy as np"
   ]
  },
  {
   "cell_type": "markdown",
   "id": "581f66cf",
   "metadata": {},
   "source": [
    "**Задание №1**"
   ]
  },
  {
   "cell_type": "code",
   "execution_count": 10,
   "id": "5d043bf9",
   "metadata": {},
   "outputs": [
    {
     "data": {
      "text/plain": [
       "array([[ 1,  6],\n",
       "       [ 2,  8],\n",
       "       [ 3, 11],\n",
       "       [ 3, 10],\n",
       "       [ 1,  7]])"
      ]
     },
     "execution_count": 10,
     "metadata": {},
     "output_type": "execute_result"
    }
   ],
   "source": [
    "a = np.array([[1, 2, 3, 3, 1], [6, 8, 11, 10, 7]]).transpose()\n",
    "a"
   ]
  },
  {
   "cell_type": "code",
   "execution_count": 11,
   "id": "91587889",
   "metadata": {},
   "outputs": [
    {
     "data": {
      "text/plain": [
       "array([2. , 8.4])"
      ]
     },
     "execution_count": 11,
     "metadata": {},
     "output_type": "execute_result"
    }
   ],
   "source": [
    "mean_a = a.mean(axis=0) # - среднее значение по каждому признаку\n",
    "mean_a"
   ]
  },
  {
   "cell_type": "markdown",
   "id": "42085bff",
   "metadata": {},
   "source": [
    "**Задание №2**"
   ]
  },
  {
   "cell_type": "code",
   "execution_count": 12,
   "id": "a90bb0c2",
   "metadata": {
    "scrolled": true
   },
   "outputs": [
    {
     "data": {
      "text/plain": [
       "array([[-1. , -2.4],\n",
       "       [ 0. , -0.4],\n",
       "       [ 1. ,  2.6],\n",
       "       [ 1. ,  1.6],\n",
       "       [-1. , -1.4]])"
      ]
     },
     "execution_count": 12,
     "metadata": {},
     "output_type": "execute_result"
    }
   ],
   "source": [
    "a_centered = a - mean_a  # - находим массив центрированных признаков, вычитая соответствующее среднее из признака\n",
    "a_centered"
   ]
  },
  {
   "cell_type": "markdown",
   "id": "5872f377",
   "metadata": {},
   "source": [
    "**Задание №3**"
   ]
  },
  {
   "cell_type": "code",
   "execution_count": 16,
   "id": "bb480dd5",
   "metadata": {},
   "outputs": [
    {
     "data": {
      "text/plain": [
       "8.0"
      ]
     },
     "execution_count": 16,
     "metadata": {},
     "output_type": "execute_result"
    }
   ],
   "source": [
    "a_centered_sp = np.dot(a_centered.T[0], a_centered.T[1]) # - находим сумму произведений центрированных признаков\n",
    "a_centered_sp"
   ]
  },
  {
   "cell_type": "code",
   "execution_count": 17,
   "id": "4be44f4d",
   "metadata": {
    "scrolled": true
   },
   "outputs": [
    {
     "name": "stdout",
     "output_type": "stream",
     "text": [
      "2.0\n"
     ]
    }
   ],
   "source": [
    "print(a_centered_sp / 4) \n",
    "# - несмещенная оценка ковариации (делим сумму произведений центрированных признаков на кол-во наблюдений - 1 (наблюдений 5, значит, делим на 4))"
   ]
  },
  {
   "cell_type": "markdown",
   "id": "b16414b1",
   "metadata": {},
   "source": [
    "**Задание №4**"
   ]
  },
  {
   "cell_type": "code",
   "execution_count": 21,
   "id": "1da13f6e",
   "metadata": {
    "scrolled": true
   },
   "outputs": [
    {
     "name": "stdout",
     "output_type": "stream",
     "text": [
      "[[1.  2. ]\n",
      " [2.  4.3]]\n"
     ]
    },
    {
     "data": {
      "text/plain": [
       "2.0"
      ]
     },
     "execution_count": 21,
     "metadata": {},
     "output_type": "execute_result"
    }
   ],
   "source": [
    "cov_matrix = np.cov(a.T) # - ковариационная матрица\n",
    "print(cov_matrix)\n",
    "cov_matrix[0][1]  # - искомое значение ковариации(элемент в строке с индексом 0 и столбце с индексом 1)"
   ]
  }
 ],
 "metadata": {
  "kernelspec": {
   "display_name": "Python 3 (ipykernel)",
   "language": "python",
   "name": "python3"
  },
  "language_info": {
   "codemirror_mode": {
    "name": "ipython",
    "version": 3
   },
   "file_extension": ".py",
   "mimetype": "text/x-python",
   "name": "python",
   "nbconvert_exporter": "python",
   "pygments_lexer": "ipython3",
   "version": "3.9.12"
  }
 },
 "nbformat": 4,
 "nbformat_minor": 5
}
